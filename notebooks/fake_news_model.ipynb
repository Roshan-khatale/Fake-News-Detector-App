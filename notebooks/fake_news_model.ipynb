{
  "cells": [
    {
      "cell_type": "code",
      "execution_count": null,
      "metadata": {},
      "outputs": [],
      "source": [
        "from sklearn.feature_extraction.text import TfidfVectorizer\n",
        "from sklearn.linear_model import LogisticRegression\n",
        "import joblib\n\n",
        "texts = ['The sky is green', 'Breaking: COVID cure discovered', 'Aliens landed']\n",
        "labels = [1, 0, 1]\n\n",
        "vectorizer = TfidfVectorizer()\n",
        "X = vectorizer.fit_transform(texts)\n",
        "model = LogisticRegression()\n",
        "model.fit(X, labels)\n",
        "joblib.dump((vectorizer, model), '../models/fake_news_model.pkl')\n",
        "print('Model saved.')"
      ]
    }
  ],
  "metadata": {},
  "nbformat": 4,
  "nbformat_minor": 5
}